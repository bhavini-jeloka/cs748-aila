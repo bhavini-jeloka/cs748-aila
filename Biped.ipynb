{
  "nbformat": 4,
  "nbformat_minor": 0,
  "metadata": {
    "colab": {
      "name": "Biped.ipynb",
      "provenance": [],
      "collapsed_sections": [],
      "authorship_tag": "ABX9TyMbOcx/HZ/gl7zvqMZRFrhW",
      "include_colab_link": true
    },
    "kernelspec": {
      "name": "python3",
      "display_name": "Python 3"
    },
    "language_info": {
      "name": "python"
    },
    "accelerator": "GPU"
  },
  "cells": [
    {
      "cell_type": "markdown",
      "metadata": {
        "id": "view-in-github",
        "colab_type": "text"
      },
      "source": [
        "<a href=\"https://colab.research.google.com/github/bhavini-jeloka/cs748-aila/blob/main/Biped.ipynb\" target=\"_parent\"><img src=\"https://colab.research.google.com/assets/colab-badge.svg\" alt=\"Open In Colab\"/></a>"
      ]
    },
    {
      "cell_type": "code",
      "execution_count": null,
      "metadata": {
        "id": "iSED2T7Co-yO"
      },
      "outputs": [],
      "source": [
        "! git clone https://github.com/AI4Finance-Foundation/ElegantRL.git"
      ]
    },
    {
      "cell_type": "code",
      "source": [
        "%cd ElegantRL"
      ],
      "metadata": {
        "id": "fOdQqg5FpIcs"
      },
      "execution_count": null,
      "outputs": []
    },
    {
      "cell_type": "code",
      "source": [
        "! pip install ."
      ],
      "metadata": {
        "id": "AIKAHrejpiqV"
      },
      "execution_count": null,
      "outputs": []
    },
    {
      "cell_type": "code",
      "source": [
        "!python examples/tutorial_BipedalWalker-v3.py"
      ],
      "metadata": {
        "id": "efShMoM1qAAm"
      },
      "execution_count": null,
      "outputs": []
    }
  ]
}